{
 "cells": [
  {
   "cell_type": "code",
   "execution_count": 1,
   "metadata": {},
   "outputs": [],
   "source": [
    "import main"
   ]
  },
  {
   "cell_type": "markdown",
   "metadata": {},
   "source": [
    "# Analiza receptov v računalniški igri Minecraft\n",
    "\n",
    "## Uvod in razlage pojmov\n",
    "\n",
    "Ta projekt iz glavne wiki spletne strani za računalniško igro Minecraft postrga vse recepte za izdelavo predmetov. Te nato shrani v CSV tabelo in jih analizira, a o tem kasneje.\n",
    "\n",
    "Najprej se dogovorimo za nekaj izrazov:\n",
    "- Material - predmet, ki je uporabljen v izdelavi drugega predmeta\n",
    "- Predmet - predmet, ki ga poskušamo sestaviti iz materialov\n",
    "- Recept - razporeditev do devetih matrialov v kvadratu velikosti 3x3, iz česar nato lahko dobimo nov predmet. Nam ni pomembna sama razporeditev, le koliko je potrebnega vsakega materiala\n",
    "\n",
    "S tem iz poti, lahko iz spletne strani naložimo html in ga predelamo v datoteko oblike CSV:"
   ]
  },
  {
   "cell_type": "code",
   "execution_count": 11,
   "metadata": {},
   "outputs": [
    {
     "ename": "AttributeError",
     "evalue": "module 'WebScraper' has no attribute 'runfile'",
     "output_type": "error",
     "traceback": [
      "\u001b[1;31m---------------------------------------------------------------------------\u001b[0m",
      "\u001b[1;31mAttributeError\u001b[0m                            Traceback (most recent call last)",
      "Cell \u001b[1;32mIn[11], line 1\u001b[0m\n\u001b[1;32m----> 1\u001b[0m \u001b[43mWebScraper\u001b[49m\u001b[38;5;241;43m.\u001b[39;49m\u001b[43mrunfile\u001b[49m()\n",
      "\u001b[1;31mAttributeError\u001b[0m: module 'WebScraper' has no attribute 'runfile'"
     ]
    }
   ],
   "source": [
    "main"
   ]
  }
 ],
 "metadata": {
  "kernelspec": {
   "display_name": "Python 3",
   "language": "python",
   "name": "python3"
  },
  "language_info": {
   "codemirror_mode": {
    "name": "ipython",
    "version": 3
   },
   "file_extension": ".py",
   "mimetype": "text/x-python",
   "name": "python",
   "nbconvert_exporter": "python",
   "pygments_lexer": "ipython3",
   "version": "3.12.5"
  }
 },
 "nbformat": 4,
 "nbformat_minor": 2
}
