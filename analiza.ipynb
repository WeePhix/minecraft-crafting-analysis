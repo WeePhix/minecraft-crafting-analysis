{
 "cells": [
  {
   "cell_type": "code",
   "execution_count": 1,
   "metadata": {},
   "outputs": [],
   "source": [
    "import pandas as pd\n",
    "import matplotlib"
   ]
  },
  {
   "cell_type": "markdown",
   "metadata": {},
   "source": [
    "# Analiza receptov v računalniški igri Minecraft\n",
    "\n",
    "### Uvod in razlage pojmov\n",
    "\n",
    "Ta projekt iz glavne wiki spletne strani za računalniško igro Minecraft postrga vse recepte za izdelavo predmetov. Te nato shrani v CSV tabelo in jih analizira, a o tem kasneje.\n",
    "\n",
    "Najprej se dogovorimo za nekaj izrazov:\n",
    "- Material - predmet, ki je uporabljen v izdelavi drugega predmeta\n",
    "- Predmet - predmet, ki ga poskušamo sestaviti iz materialov\n",
    "- Recept - razporeditev do devetih matrialov v kvadratu velikosti 3x3, iz česar nato lahko dobimo nov predmet. Nam ni pomembna sama razporeditev, le koliko je potrebnega vsakega materiala\n",
    "\n",
    "Prvi korak je naložiti HTML spletne strani na računalnik in ga predelati v datoteko CSV. To naredimo tako, da zaženemo program `main.py`, a sem na repozitorij objavil vse vmesne datoteke, saj je del programa, ki naloži HTML nekoliko nezanesljiv (zelo odvisen od internetne povezave, verzije iskalnika Chrome ipd.). Če vam pri zagonu `main.py` selenium vrača napako, nastavite spremenljivko na začetku programa na `download_from_web = False`."
   ]
  },
  {
   "cell_type": "code",
   "execution_count": 2,
   "metadata": {},
   "outputs": [
    {
     "data": {
      "text/html": [
       "<div>\n",
       "<style scoped>\n",
       "    .dataframe tbody tr th:only-of-type {\n",
       "        vertical-align: middle;\n",
       "    }\n",
       "\n",
       "    .dataframe tbody tr th {\n",
       "        vertical-align: top;\n",
       "    }\n",
       "\n",
       "    .dataframe thead th {\n",
       "        text-align: right;\n",
       "    }\n",
       "</style>\n",
       "<table border=\"1\" class=\"dataframe\">\n",
       "  <thead>\n",
       "    <tr style=\"text-align: right;\">\n",
       "      <th></th>\n",
       "      <th>Section</th>\n",
       "      <th>Name</th>\n",
       "      <th>Ingredients</th>\n",
       "      <th>Amounts</th>\n",
       "      <th>Yield</th>\n",
       "    </tr>\n",
       "  </thead>\n",
       "  <tbody>\n",
       "    <tr>\n",
       "      <th>344</th>\n",
       "      <td>Brewing</td>\n",
       "      <td>Fermented_Spider_Eye</td>\n",
       "      <td>Brown_Mushroom;Spider_Eye;Sugar</td>\n",
       "      <td>1;1;1</td>\n",
       "      <td>1</td>\n",
       "    </tr>\n",
       "    <tr>\n",
       "      <th>343</th>\n",
       "      <td>Brewing</td>\n",
       "      <td>Cauldron</td>\n",
       "      <td>Iron_Ingot</td>\n",
       "      <td>7</td>\n",
       "      <td>1</td>\n",
       "    </tr>\n",
       "    <tr>\n",
       "      <th>342</th>\n",
       "      <td>Brewing</td>\n",
       "      <td>Brewing_Stand</td>\n",
       "      <td>Blaze_Rod;Cobblestone</td>\n",
       "      <td>1;2</td>\n",
       "      <td>1</td>\n",
       "    </tr>\n",
       "    <tr>\n",
       "      <th>345</th>\n",
       "      <td>Brewing</td>\n",
       "      <td>Glass_Bottle</td>\n",
       "      <td>Glass</td>\n",
       "      <td>3</td>\n",
       "      <td>3</td>\n",
       "    </tr>\n",
       "    <tr>\n",
       "      <th>341</th>\n",
       "      <td>Brewing</td>\n",
       "      <td>Blaze_Powder</td>\n",
       "      <td>Blaze_Rod</td>\n",
       "      <td>1</td>\n",
       "      <td>2</td>\n",
       "    </tr>\n",
       "    <tr>\n",
       "      <th>...</th>\n",
       "      <td>...</td>\n",
       "      <td>...</td>\n",
       "      <td>...</td>\n",
       "      <td>...</td>\n",
       "      <td>...</td>\n",
       "    </tr>\n",
       "    <tr>\n",
       "      <th>308</th>\n",
       "      <td>Utilities</td>\n",
       "      <td>Clock</td>\n",
       "      <td>Gold_Ingot;Redstone_Dust</td>\n",
       "      <td>4;1</td>\n",
       "      <td>1</td>\n",
       "    </tr>\n",
       "    <tr>\n",
       "      <th>309</th>\n",
       "      <td>Utilities</td>\n",
       "      <td>Compass</td>\n",
       "      <td>Iron_Ingot;Redstone_Dust</td>\n",
       "      <td>4;1</td>\n",
       "      <td>1</td>\n",
       "    </tr>\n",
       "    <tr>\n",
       "      <th>310</th>\n",
       "      <td>Utilities</td>\n",
       "      <td>Lead</td>\n",
       "      <td>Slimeball;String</td>\n",
       "      <td>1;4</td>\n",
       "      <td>2</td>\n",
       "    </tr>\n",
       "    <tr>\n",
       "      <th>311</th>\n",
       "      <td>Utilities</td>\n",
       "      <td>Recovery_Compass</td>\n",
       "      <td>Compass;Echo_Shard</td>\n",
       "      <td>1;8</td>\n",
       "      <td>1</td>\n",
       "    </tr>\n",
       "    <tr>\n",
       "      <th>305</th>\n",
       "      <td>Utilities</td>\n",
       "      <td>Bucket</td>\n",
       "      <td>Iron_Ingot</td>\n",
       "      <td>3</td>\n",
       "      <td>1</td>\n",
       "    </tr>\n",
       "  </tbody>\n",
       "</table>\n",
       "<p>415 rows × 5 columns</p>\n",
       "</div>"
      ],
      "text/plain": [
       "       Section                  Name                      Ingredients Amounts  \\\n",
       "344    Brewing  Fermented_Spider_Eye  Brown_Mushroom;Spider_Eye;Sugar   1;1;1   \n",
       "343    Brewing              Cauldron                       Iron_Ingot       7   \n",
       "342    Brewing         Brewing_Stand            Blaze_Rod;Cobblestone     1;2   \n",
       "345    Brewing          Glass_Bottle                            Glass       3   \n",
       "341    Brewing          Blaze_Powder                        Blaze_Rod       1   \n",
       "..         ...                   ...                              ...     ...   \n",
       "308  Utilities                 Clock         Gold_Ingot;Redstone_Dust     4;1   \n",
       "309  Utilities               Compass         Iron_Ingot;Redstone_Dust     4;1   \n",
       "310  Utilities                  Lead                 Slimeball;String     1;4   \n",
       "311  Utilities      Recovery_Compass               Compass;Echo_Shard     1;8   \n",
       "305  Utilities                Bucket                       Iron_Ingot       3   \n",
       "\n",
       "     Yield  \n",
       "344      1  \n",
       "343      1  \n",
       "342      1  \n",
       "345      3  \n",
       "341      2  \n",
       "..     ...  \n",
       "308      1  \n",
       "309      1  \n",
       "310      2  \n",
       "311      1  \n",
       "305      1  \n",
       "\n",
       "[415 rows x 5 columns]"
      ]
     },
     "execution_count": 2,
     "metadata": {},
     "output_type": "execute_result"
    }
   ],
   "source": [
    "csv_data = pd.read_csv(\"data/data.csv\").sort_values(\"Name\").sort_values(\"Section\")\n",
    "csv_data"
   ]
  },
  {
   "cell_type": "markdown",
   "metadata": {},
   "source": [
    "Poglejmo si tudi, kateri recepti proizvedejo največ predmetov oz. imajo največji donos:"
   ]
  },
  {
   "cell_type": "code",
   "execution_count": 3,
   "metadata": {},
   "outputs": [
    {
     "data": {
      "text/html": [
       "<div>\n",
       "<style scoped>\n",
       "    .dataframe tbody tr th:only-of-type {\n",
       "        vertical-align: middle;\n",
       "    }\n",
       "\n",
       "    .dataframe tbody tr th {\n",
       "        vertical-align: top;\n",
       "    }\n",
       "\n",
       "    .dataframe thead th {\n",
       "        text-align: right;\n",
       "    }\n",
       "</style>\n",
       "<table border=\"1\" class=\"dataframe\">\n",
       "  <thead>\n",
       "    <tr style=\"text-align: right;\">\n",
       "      <th></th>\n",
       "      <th>Section</th>\n",
       "      <th>Name</th>\n",
       "      <th>Ingredients</th>\n",
       "      <th>Amounts</th>\n",
       "      <th>Yield</th>\n",
       "    </tr>\n",
       "  </thead>\n",
       "  <tbody>\n",
       "    <tr>\n",
       "      <th>195</th>\n",
       "      <td>Decoration_blocks</td>\n",
       "      <td>Iron_Bars</td>\n",
       "      <td>Iron_Ingot</td>\n",
       "      <td>6</td>\n",
       "      <td>16</td>\n",
       "    </tr>\n",
       "    <tr>\n",
       "      <th>229</th>\n",
       "      <td>Decoration_blocks</td>\n",
       "      <td>Stained_Glass_Pane</td>\n",
       "      <td>White_Stained_Glass</td>\n",
       "      <td>6</td>\n",
       "      <td>16</td>\n",
       "    </tr>\n",
       "    <tr>\n",
       "      <th>279</th>\n",
       "      <td>Transportation</td>\n",
       "      <td>Rail</td>\n",
       "      <td>Iron_Ingot;Stick</td>\n",
       "      <td>6;1</td>\n",
       "      <td>16</td>\n",
       "    </tr>\n",
       "    <tr>\n",
       "      <th>188</th>\n",
       "      <td>Decoration_blocks</td>\n",
       "      <td>Glass_Pane</td>\n",
       "      <td>Glass</td>\n",
       "      <td>6</td>\n",
       "      <td>16</td>\n",
       "    </tr>\n",
       "    <tr>\n",
       "      <th>358</th>\n",
       "      <td>Materials</td>\n",
       "      <td>Gold_Ingot</td>\n",
       "      <td>Block_of_Gold</td>\n",
       "      <td>1</td>\n",
       "      <td>9</td>\n",
       "    </tr>\n",
       "    <tr>\n",
       "      <th>...</th>\n",
       "      <td>...</td>\n",
       "      <td>...</td>\n",
       "      <td>...</td>\n",
       "      <td>...</td>\n",
       "      <td>...</td>\n",
       "    </tr>\n",
       "    <tr>\n",
       "      <th>161</th>\n",
       "      <td>Decoration_blocks</td>\n",
       "      <td>Banner</td>\n",
       "      <td>Stick;White_Wool</td>\n",
       "      <td>1;6</td>\n",
       "      <td>1</td>\n",
       "    </tr>\n",
       "    <tr>\n",
       "      <th>231</th>\n",
       "      <td>Decoration_blocks</td>\n",
       "      <td>Stonecutter</td>\n",
       "      <td>Iron_Ingot;Stone</td>\n",
       "      <td>1;3</td>\n",
       "      <td>1</td>\n",
       "    </tr>\n",
       "    <tr>\n",
       "      <th>162</th>\n",
       "      <td>Decoration_blocks</td>\n",
       "      <td>Barrel</td>\n",
       "      <td>Oak_Planks;Oak_Slab</td>\n",
       "      <td>5;2</td>\n",
       "      <td>1</td>\n",
       "    </tr>\n",
       "    <tr>\n",
       "      <th>173</th>\n",
       "      <td>Decoration_blocks</td>\n",
       "      <td>Chest</td>\n",
       "      <td>Oak_Planks</td>\n",
       "      <td>8</td>\n",
       "      <td>1</td>\n",
       "    </tr>\n",
       "    <tr>\n",
       "      <th>305</th>\n",
       "      <td>Utilities</td>\n",
       "      <td>Bucket</td>\n",
       "      <td>Iron_Ingot</td>\n",
       "      <td>3</td>\n",
       "      <td>1</td>\n",
       "    </tr>\n",
       "  </tbody>\n",
       "</table>\n",
       "<p>415 rows × 5 columns</p>\n",
       "</div>"
      ],
      "text/plain": [
       "               Section                Name          Ingredients Amounts  Yield\n",
       "195  Decoration_blocks           Iron_Bars           Iron_Ingot       6     16\n",
       "229  Decoration_blocks  Stained_Glass_Pane  White_Stained_Glass       6     16\n",
       "279     Transportation                Rail     Iron_Ingot;Stick     6;1     16\n",
       "188  Decoration_blocks          Glass_Pane                Glass       6     16\n",
       "358          Materials          Gold_Ingot        Block_of_Gold       1      9\n",
       "..                 ...                 ...                  ...     ...    ...\n",
       "161  Decoration_blocks              Banner     Stick;White_Wool     1;6      1\n",
       "231  Decoration_blocks         Stonecutter     Iron_Ingot;Stone     1;3      1\n",
       "162  Decoration_blocks              Barrel  Oak_Planks;Oak_Slab     5;2      1\n",
       "173  Decoration_blocks               Chest           Oak_Planks       8      1\n",
       "305          Utilities              Bucket           Iron_Ingot       3      1\n",
       "\n",
       "[415 rows x 5 columns]"
      ]
     },
     "execution_count": 3,
     "metadata": {},
     "output_type": "execute_result"
    }
   ],
   "source": [
    "csv_data.sort_values(\"Yield\", ascending=False)"
   ]
  },
  {
   "cell_type": "markdown",
   "metadata": {},
   "source": [
    "Vidimo, da imajo železne rešetke, tračnice in vitraži ter prozorne steklene plošče vse najvišji donos, kar je 16 iz enega recepta.\n",
    "\n",
    "### Primarni in sekundarni materiali\n",
    "\n",
    "Sedaj bi radi definirali razliko med materiali: tisti, ki jih lahko naredimo iz česa drugega in tisti, ki jih ne moremo (na primer drva, kamen ipd.). Za to bomo definirali razred, ki bo hranil podatke o predmetih, da jih lahko nato primerjamo:"
   ]
  },
  {
   "cell_type": "code",
   "execution_count": 4,
   "metadata": {},
   "outputs": [],
   "source": [
    "class Item():\n",
    "    def __init__(self, section: str, name: str) -> None:\n",
    "        self.name = name\n",
    "        self.section = section\n",
    "        self.recipes = []\n",
    "        self.material_for = []\n",
    "        self.is_primary = False\n",
    "        self.is_final = False\n",
    "        self.max_depth = 0\n",
    "        self.primary_ingredients = []\n",
    "        # For each primary material, there is a tuple in the form of (Ingredient, Amount)\n",
    "        self.items_crafted = []\n",
    "        # A list of all the items, that can be crafted from this (directly or indirectly)\n",
    "        self.recipe_chains = []\n",
    "        # Contains lists of items, ranging from this item to its primary materials\n",
    "        self.max_depth = 0\n",
    "    \n",
    "    def new_recipe(self, ings: str, ams: str, y: str):\n",
    "        recipe = {}\n",
    "        ings = ings.split(\";\")\n",
    "        ams = ams.split(\";\")\n",
    "        for i in range(len(ams)):\n",
    "            recipe[ings[i]] = ams[i]\n",
    "        recipe[\"yield\"] = y\n",
    "        self.recipes.append(recipe)\n",
    "    \n",
    "    def new_material(self, item: str):\n",
    "        if item not in self.material_for:\n",
    "            self.material_for.append(item)\n",
    "    \n",
    "    def __str__(self) -> str:\n",
    "        out = self.name + \" is \"\n",
    "        if self.is_final:\n",
    "            out += \"final\" \n",
    "        elif self.is_primary:\n",
    "            out += \"primary\"\n",
    "        else:\n",
    "            out +=\"intermediate\"\n",
    "        out += \"\\nItems crafted from this are: \"\n",
    "        for item in self.items_crafted:\n",
    "            out += f\"{item}, \"\n",
    "        out = out[:-2] + \"\\nThe necessary primary materials for this item are: (material, amount per produced item)\\n\"\n",
    "        for material in self.primary_ingredients:\n",
    "            out += f\"({material[0]}, {str(round(material[1], 3))})\\n\"\n",
    "        out += f\"The longest chain of crafting operations for this item is {self.max_depth} operations long.\\n\"\n",
    "        out += \"#\" * 100\n",
    "        return out\n"
   ]
  },
  {
   "cell_type": "markdown",
   "metadata": {},
   "source": [
    "Sedaj shranimo vsak predmet v CSV tabeli v svoj predmet razreda Item in te shranimo v slovar, da lahko lažje dostopamo do njih:"
   ]
  },
  {
   "cell_type": "code",
   "execution_count": 5,
   "metadata": {},
   "outputs": [],
   "source": [
    "items = {}\n",
    "\n",
    "for i, row in csv_data.iterrows():\n",
    "    #print(row)\n",
    "    items[row[\"Name\"]] = Item(row[\"Section\"], row[\"Name\"])\n",
    "    items[row[\"Name\"]].new_recipe(row[\"Ingredients\"], row[\"Amounts\"], row[\"Yield\"])"
   ]
  },
  {
   "cell_type": "markdown",
   "metadata": {},
   "source": [
    "Vsak predmet razreda Item hrani podatke o specifičnem predmetu iz CSV datoteke in potem še dodaten podatek: za katere predmete je uporabljen.\n",
    "\n",
    "Pri iskanju primarnih materialov je še ena ovira; nekatere primarne materiale je mogoče \"stisniti\" v kocko tega materiala, to kocko pa je potem mogoče razdreti nazaj na prvotno količino materiala (Na primer železo: 9 palic železa lahko spremenimo v kocko železa, to pa lahko spremenimo nazaj v 9 železnih palic).\n",
    "\n",
    "Takšnih materialov je več, tako da jih poiščimo. Za vsak predmet bomo iskali, če je ta predmet material za katerega od svojih materialov:"
   ]
  },
  {
   "cell_type": "code",
   "execution_count": 6,
   "metadata": {},
   "outputs": [
    {
     "name": "stdout",
     "output_type": "stream",
     "text": [
      "Hay_Bale\n",
      "Bone_Block\n",
      "Block_of_Gold\n",
      "Block_of_Iron\n",
      "Slime_Block\n",
      "Honey_Block\n",
      "Honey_Bottle\n",
      "Wheat\n",
      "Bone_Meal\n",
      "Iron_Ingot\n",
      "Gold_Ingot\n",
      "Slimeball\n",
      "Block_of_Redstone\n",
      "Redstone_Dust\n"
     ]
    }
   ],
   "source": [
    "for item in items.values():\n",
    "    for recipe in item.recipes:\n",
    "        for ingredient in recipe.keys():\n",
    "            if ingredient not in items.keys():\n",
    "                continue\n",
    "            for recipe2 in items[ingredient].recipes:\n",
    "                if item.name in recipe2.keys():\n",
    "                    print(item.name)"
   ]
  },
  {
   "cell_type": "markdown",
   "metadata": {},
   "source": [
    "Sedaj izmed teh izberemo tiste, ki jih nastavimo kot primarne:"
   ]
  },
  {
   "cell_type": "code",
   "execution_count": 7,
   "metadata": {},
   "outputs": [],
   "source": [
    "primaries = [\"Dried_Kelp\", \"Raw_Iron\", \"Raw_Gold\", \"Wheat\", \"Raw_Copper\",\n",
    "             \"Coal\", \"Diamond\", \"Iron_Ingot\", \"Gold_Ingot\", \"Emerald\", \"Bone_Meal\",\n",
    "             \"Lapis_Lazuli\", \"Netherite_Ingot\", \"Slimeball\", \"Honey_Block\", \"Redstone_Dust\"]"
   ]
  },
  {
   "cell_type": "markdown",
   "metadata": {},
   "source": [
    "Sedaj, ko imamo vse predmete shranjene, lahko za vsak predmet preverimo, v katerem receptu je material za drug predmet:"
   ]
  },
  {
   "cell_type": "code",
   "execution_count": 8,
   "metadata": {},
   "outputs": [],
   "source": [
    "materials = {}\n",
    "\n",
    "for item in items.keys():\n",
    "    for recipe in items[item].recipes:\n",
    "        for material in recipe.keys():\n",
    "            if material == \"yield\":\n",
    "                continue\n",
    "            if material not in items.keys():\n",
    "                # Če material v receptu še ni v slovarju predmetov, to pomeni,\n",
    "                # da nima recepta, ki bi naredil ta predmet, torej je primarni material\n",
    "                materials[material] = Item(\"Primary\", material)\n",
    "                materials[material].is_primary = True\n",
    "                if material not in primaries:\n",
    "                    primaries.append(material)\n",
    "                materials[material].new_material(item)\n",
    "            elif material in primaries:\n",
    "                items[material].is_primary = True\n",
    "                items[material].new_material(item)\n",
    "            # Vsakem material v vsakem receptu zabeležimo, da je iz njega mogoče narediti predmet, ki je posledica tega recepta\n",
    "            else:\n",
    "                items[material].new_material(item)\n",
    "\n",
    "items = materials | items"
   ]
  },
  {
   "cell_type": "markdown",
   "metadata": {},
   "source": [
    "Preverimo, da program pravilno zazna vse primarne materiale (če predmet nima recepta in je v receptu, potem je primarni material):"
   ]
  },
  {
   "cell_type": "code",
   "execution_count": 9,
   "metadata": {},
   "outputs": [
    {
     "name": "stdout",
     "output_type": "stream",
     "text": [
      "Predmeti, ki nimajo recepta in niso primarni:\n",
      "Konec!\n"
     ]
    }
   ],
   "source": [
    "print(\"Predmeti, ki nimajo recepta in niso primarni:\")\n",
    "for item in items.keys():\n",
    "    if len(items[item].recipes) == 0 and not items[item].is_primary:\n",
    "        print(item, items[item].material_for)\n",
    "print(\"Konec!\")"
   ]
  },
  {
   "cell_type": "markdown",
   "metadata": {},
   "source": [
    "Ker je presek med množico predmetov, ki niso primarni materiali, in množico predmetov brez recepta, prazna, naš program deluje pravilno.\n",
    "\n",
    "Sedaj lahko zelo preprosto tudi definiramo končne predmete, to so tisti predmeti, ki niso material za noben drug predmet:"
   ]
  },
  {
   "cell_type": "code",
   "execution_count": 10,
   "metadata": {},
   "outputs": [],
   "source": [
    "for item in items.values():\n",
    "    if len(item.material_for) == 0:\n",
    "        item.is_final = True"
   ]
  },
  {
   "cell_type": "markdown",
   "metadata": {},
   "source": [
    "Tega ne bomo preverjali, saj precej očitno deluje.\n",
    "\n",
    "## Veriga receptov\n",
    "\n",
    "Sedaj, ko imamo te podatke na voljo, lahko tvorimo verige receptov. Zanima nas, Katere vse materiale moramo narediti, da izdelamo vsak predmet. Poleg tega bi bilo priročno vedeti, koliko katerih primarnih materialov potrebujemo za poljuben predmet, in za katere predmete moramo uporabiti posamezen primarni element."
   ]
  },
  {
   "cell_type": "code",
   "execution_count": 11,
   "metadata": {},
   "outputs": [],
   "source": [
    "def recursive_recipe_search(name: str, multiplier: float=1) -> list:\n",
    "    if items[name].is_primary:\n",
    "        return []\n",
    "    out = []\n",
    "    for i, recipe in enumerate(items[name].recipes):\n",
    "        out.append([])\n",
    "        if len(recipe.keys()) == 0:\n",
    "            continue\n",
    "        for material in recipe.keys():\n",
    "            if material == None:\n",
    "                return []\n",
    "            if material == \"yield\":\n",
    "                continue\n",
    "            mult = multiplier * int(recipe[material]) / int(recipe[\"yield\"])\n",
    "            if mult == None:\n",
    "                return []\n",
    "            out[i].append((material, mult))\n",
    "            out[i] += recursive_recipe_search(material, mult)\n",
    "    return out\n",
    "\n",
    "for item in items.values():\n",
    "    if not item.is_primary:\n",
    "        item.recipe_chains = recursive_recipe_search(item.name)"
   ]
  },
  {
   "cell_type": "markdown",
   "metadata": {},
   "source": [
    "Sedaj imamo za vsak predmet verigo materialov v obliki gnezdenih seznamov. Iz tega lahko preberemo, katere primarne materiale potrebujemo (in koliko vsakega) za vsak predmet in koliko korakov potrebujemo, da pridemo od primarnih materialov do želenega predmeta:"
   ]
  },
  {
   "cell_type": "code",
   "execution_count": 12,
   "metadata": {},
   "outputs": [],
   "source": [
    "def find_primaries_and_depth(recipe_chain: list, depth: int=0):\n",
    "    out = []\n",
    "    for link in recipe_chain:\n",
    "        if type(link) == type([]):\n",
    "            temp = find_primaries_and_depth(link)\n",
    "            out += temp[0]\n",
    "            depth = temp[1]\n",
    "        else:\n",
    "            if items[link[0]].is_primary:\n",
    "                out.append(link)\n",
    "    \n",
    "    return out, depth + 1\n",
    "\n",
    "for item in items.values():\n",
    "    out = []\n",
    "    for chain in item.recipe_chains:\n",
    "        temp = find_primaries_and_depth(chain)\n",
    "        out += temp[0]\n",
    "        item.max_depth = max(item.max_depth, temp[1])\n",
    "    for i, tup in enumerate(out):\n",
    "        for j in range(i):\n",
    "            if out[j][0] == tup[0]:\n",
    "                if out[j][1] > tup[1]:\n",
    "                    out.pop(i)\n",
    "                else:\n",
    "                    out.pop(j)\n",
    "    for mat, amt in out:\n",
    "        amt = float.as_integer_ratio(amt)\n",
    "    item.primary_ingredients = out"
   ]
  },
  {
   "cell_type": "markdown",
   "metadata": {},
   "source": [
    "Nazadnje poglejmo še, katere predmete lahko (posredno ali neposredno) naredimo iz vsakega predmeta:"
   ]
  },
  {
   "cell_type": "code",
   "execution_count": 13,
   "metadata": {},
   "outputs": [],
   "source": [
    "def recursive_material_search(material: str):\n",
    "    out = set()\n",
    "    if items[material].is_final:\n",
    "        return set()\n",
    "    \n",
    "    for item in items.values():\n",
    "        if item.is_primary:\n",
    "            continue\n",
    "        for recipe in item.recipes:\n",
    "            if material in recipe.keys():\n",
    "                out.add(item.name)\n",
    "                out = out.union(recursive_material_search(item.name))\n",
    "    return out\n",
    "\n",
    "for item in items.values():\n",
    "    item.items_crafted = list(recursive_material_search(item.name))\n",
    "    #print(item.name, item.items_crafted)\n",
    "#print(items[\"Iron_Ingot\"].is_final, items[\"Iron_Ingot\"].items_crafted)"
   ]
  },
  {
   "cell_type": "markdown",
   "metadata": {},
   "source": [
    "Sedaj dodamo razredu Item funkcijo `__str__`, da lahko uporabimo `print(predmet)`, da vidimo vse nabrane podatke o predmetu:\n",
    "(To bom onemogočil, saj je sporočilo, ki ga izpiše, zelo dolgo. Če ga vseeno želite videti, spremenite `False` v `True` in za\\enite celico)"
   ]
  },
  {
   "cell_type": "code",
   "execution_count": 14,
   "metadata": {},
   "outputs": [],
   "source": [
    "if False:\n",
    "    for item in items.values():\n",
    "        print(item)"
   ]
  },
  {
   "cell_type": "code",
   "execution_count": 15,
   "metadata": {},
   "outputs": [],
   "source": [
    "for item in items.values():\n",
    "    if item.primary_ingredients == []:\n",
    "        item.is_primary = True\n",
    "    elif item.items_crafted == set():\n",
    "        item.is_final = True"
   ]
  },
  {
   "cell_type": "markdown",
   "metadata": {},
   "source": [
    "Vse te podatke shranimo še v novo CSV datoteko:"
   ]
  },
  {
   "cell_type": "code",
   "execution_count": 16,
   "metadata": {},
   "outputs": [],
   "source": [
    "out = \"Item,Position,Primaries,Primary_Amounts,Crafts,Chain,Ingredient_Count,Craft_Count\\n\"\n",
    "for item in items.values():\n",
    "    out += item.name + \",\"\n",
    "    out += \"Primary\" if item.is_primary else (\"Final\" if item.is_final else \"Intermediate\")\n",
    "    out += \",\"\n",
    "    if item.is_primary:\n",
    "        out += \"_,_,\"\n",
    "        for craft in item.items_crafted:\n",
    "            out += craft\n",
    "            out += \";\"\n",
    "        if out[-1] == \",\":\n",
    "            out += \"__\"\n",
    "        out = out[:-1] + \",0\"\n",
    "    elif item.is_final:\n",
    "        for primary in item.primary_ingredients:\n",
    "            out += primary[0] + \";\"\n",
    "        out = out[:-1] + \",\"\n",
    "        for primary in item.primary_ingredients:\n",
    "            amt_rounded = round(primary[1], 3)\n",
    "            if amt_rounded % 1 == 0:\n",
    "                amt_rounded = int(amt_rounded)\n",
    "            out += str(amt_rounded) + \";\"\n",
    "        out = out[:-1] + \",_,\" \n",
    "        out += str(item.max_depth) if type(item.max_depth) == type(0) else \"0\"\n",
    "    else:\n",
    "        for primary in item.primary_ingredients:\n",
    "            out += primary[0] + \";\"\n",
    "        out = out[:-1] + \",\"\n",
    "        for primary in item.primary_ingredients:\n",
    "            amt_rounded = round(primary[1], 3)\n",
    "            if amt_rounded % 1 == 0:\n",
    "                amt_rounded = int(amt_rounded)\n",
    "            out += str(amt_rounded) + \";\"\n",
    "        out = out[:-1] + \",\"\n",
    "        for craft in item.items_crafted:\n",
    "            out += craft\n",
    "            out += \";\"\n",
    "        if out[-1] == \",\":\n",
    "            out += \"__\"\n",
    "        out = out[:-1]\n",
    "        out += \",\" + str(int(item.max_depth))\n",
    "    out += \",\" + str(len(item.primary_ingredients)) + \",\" + str(len(item.items_crafted))\n",
    "    out += \"\\n\"\n",
    "out.strip(\"\\n\")\n",
    "with open(\"data/extracted.csv\", \"w\", encoding=\"utf8\") as file:\n",
    "    file.write(out)\n",
    "    "
   ]
  },
  {
   "cell_type": "markdown",
   "metadata": {},
   "source": [
    "Nazadnje pa si poglejmo še nekaj zanimivih grafov:"
   ]
  },
  {
   "cell_type": "code",
   "execution_count": 17,
   "metadata": {},
   "outputs": [
    {
     "data": {
      "image/png": "[encoded data removed]",
      "text/plain": [
       "<Figure size 640x480 with 1 Axes>"
      ]
     },
     "metadata": {},
     "output_type": "display_data"
    }
   ],
   "source": [
    "csv_extr = pd.read_csv(\"data/extracted.csv\").sort_values(\"Item\").sort_values(\"Position\", ascending=False)\n",
    "graf = csv_extr.groupby(\"Position\").size().plot.bar(xlabel=\"Vrsta predmeta\", ylabel=\"Število predmetov\")"
   ]
  },
  {
   "cell_type": "markdown",
   "metadata": {},
   "source": [
    "Iz grafa vidimo, da je večina predmetov kočnih in nekoliko več primarnih kot vmesnih.\n",
    "\n",
    "Poglejmo si še pogostost dolžin verig:"
   ]
  },
  {
   "cell_type": "code",
   "execution_count": 18,
   "metadata": {},
   "outputs": [
    {
     "data": {
      "image/png": "[encoded data removed]",
      "text/plain": [
       "<Figure size 640x480 with 1 Axes>"
      ]
     },
     "metadata": {},
     "output_type": "display_data"
    }
   ],
   "source": [
    "graf = csv_extr.groupby(\"Chain\").size().plot.bar(xlabel=\"Dolžina verige\", ylabel=\"Število predmetov\")"
   ]
  },
  {
   "cell_type": "markdown",
   "metadata": {},
   "source": [
    "To izgleda približno naravno razporejeno.\n",
    "\n",
    "Oglejmo si še, koliko predmetov je material za koliko drugih predmetov:"
   ]
  },
  {
   "cell_type": "code",
   "execution_count": 19,
   "metadata": {},
   "outputs": [
    {
     "data": {
      "image/png": "[encoded data removed]",
      "text/plain": [
       "<Figure size 640x480 with 1 Axes>"
      ]
     },
     "metadata": {},
     "output_type": "display_data"
    }
   ],
   "source": [
    "graf = csv_extr.groupby(\"Craft_Count\").size().plot.bar(xlabel=\"Število izdelkov\", ylabel=\"Število predmetov\")"
   ]
  },
  {
   "cell_type": "markdown",
   "metadata": {},
   "source": [
    "Vidimo dve zanimivosti:\n",
    "1. Skoraj 300 predmetov ni material za noben drug predmet, kar se ujema z grafom od prej, ki kaže, da je skoraj 300 predmetov končnih,\n",
    "2. Vsaj en predmet je material za kar 49 drugih predmetov!\n",
    "\n",
    "Poglejmo si, kateri predmeti to so in za katere predmete so materiali."
   ]
  },
  {
   "cell_type": "code",
   "execution_count": 20,
   "metadata": {},
   "outputs": [
    {
     "name": "stdout",
     "output_type": "stream",
     "text": [
      "Bamboo: Arrow, Diamond_Sword, Banner, Rail, Hoe, Redstone_Comparator, Pickaxe, Crossbow, Redstone_Repeater, Tripwire_Hook, Campfire, Scaffolding, Axe, Dispenser, Soul_Lantern, Soul_Torch, Stone_Hoe, Warped_Fungus_on_a_Stick, Spectral_Arrow, Swords, Stone_Shovel, Glow_Item_Frame, Brush, Carrot_on_a_Stick, Shovel, Redstone_Torch, Grindstone, Lantern, Armor_Stand, Powered_Rail, Fishing_Rod, Tipped_Arrow, Sign, Wooden_Fence, Stick, Soul_Campfire, Lever, Activator_Rail, Ladder, Torch, Wooden_Axe, Bow, Jack_o'Lantern, Painting, Fence_Gate, Stone_Pickaxe, Trapped_Chest, Sparkler, Item_Frame\n"
     ]
    }
   ],
   "source": [
    "master_ingredient = csv_extr[csv_extr.Craft_Count == 49].values[0]\n",
    "crafts = master_ingredient[4].split(\";\")\n",
    "out = master_ingredient[0] + \": \"\n",
    "for craft in crafts:\n",
    "    out += craft + \", \"\n",
    "print(out[:-2])"
   ]
  },
  {
   "cell_type": "markdown",
   "metadata": {},
   "source": [
    "Poglejmo še, koliko predmetov ima koliko primarnih materialov:"
   ]
  },
  {
   "cell_type": "code",
   "execution_count": 21,
   "metadata": {},
   "outputs": [
    {
     "data": {
      "image/png": "[encoded data removed]",
      "text/plain": [
       "<Figure size 640x480 with 1 Axes>"
      ]
     },
     "metadata": {},
     "output_type": "display_data"
    }
   ],
   "source": [
    "graf = csv_extr.groupby(\"Ingredient_Count\").size().plot.bar(xlabel=\"Število primarnih materialov\", ylabel=\"Število predmetov\")"
   ]
  },
  {
   "cell_type": "markdown",
   "metadata": {},
   "source": [
    "Spet si oglejmo, kateri predmeti imajo pet primarnih materialov:"
   ]
  },
  {
   "cell_type": "code",
   "execution_count": 22,
   "metadata": {},
   "outputs": [
    {
     "name": "stdout",
     "output_type": "stream",
     "text": [
      "Sticky_Piston: Cobblestone, Iron_Ingot, Oak_Planks, Redstone_Dust, Slimeball\n"
     ]
    }
   ],
   "source": [
    "master_craft = csv_extr[csv_extr.Ingredient_Count == 5].values[0]\n",
    "ingredients = master_craft[2].split(\";\")\n",
    "out = master_craft[0] + \": \"\n",
    "for ingredient in ingredients:\n",
    "    out += ingredient + \", \"\n",
    "print(out[:-2])"
   ]
  }
 ],
 "metadata": {
  "kernelspec": {
   "display_name": "Python 3",
   "language": "python",
   "name": "python3"
  },
  "language_info": {
   "codemirror_mode": {
    "name": "ipython",
    "version": 3
   },
   "file_extension": ".py",
   "mimetype": "text/x-python",
   "name": "python",
   "nbconvert_exporter": "python",
   "pygments_lexer": "ipython3",
   "version": "3.9.13"
  }
 },
 "nbformat": 4,
 "nbformat_minor": 2
}
